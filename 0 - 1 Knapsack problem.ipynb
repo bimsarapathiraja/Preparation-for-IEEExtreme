{
 "cells": [
  {
   "cell_type": "markdown",
   "metadata": {},
   "source": [
    "problem: search **0-1 Knapsack problem**"
   ]
  },
  {
   "cell_type": "markdown",
   "metadata": {},
   "source": [
    "Recursive Solution"
   ]
  },
  {
   "cell_type": "code",
   "execution_count": 1,
   "metadata": {},
   "outputs": [],
   "source": [
    "def knapSack(W, wt, vals, n):\n",
    "    if W == 0 or n == 0:\n",
    "        return 0\n",
    "    \n",
    "    if wt[n-1] > W:\n",
    "        knapSack(W, wt, vals, n-1)\n",
    "        \n",
    "    else:\n",
    "        return max(vals[n-1] + knapSack(W - wt[n-1], wt, vals, n-1),\n",
    "                  knapSack(W, wt, vals, n-1))"
   ]
  },
  {
   "cell_type": "code",
   "execution_count": 2,
   "metadata": {},
   "outputs": [
    {
     "data": {
      "text/plain": [
       "220"
      ]
     },
     "execution_count": 2,
     "metadata": {},
     "output_type": "execute_result"
    }
   ],
   "source": [
    "knapSack(50, [10, 20, 30], [60, 100, 120], 3)"
   ]
  },
  {
   "cell_type": "markdown",
   "metadata": {},
   "source": [
    "Dynamic programming solution"
   ]
  },
  {
   "cell_type": "code",
   "execution_count": 3,
   "metadata": {},
   "outputs": [],
   "source": [
    "def knapSack_dynamic(W, wt, vals, n):\n",
    "    \n",
    "    K = [[0] * (W+1) for _ in range(n+1)]\n",
    "    \n",
    "    for i in range(n+1):\n",
    "        for j in range(W+1):\n",
    "            if i == 0 or j == 0:\n",
    "                K[i][j] = 0\n",
    "            else:\n",
    "                if wt[i-1] <= W:\n",
    "                    K[i][j] = max(vals[i-1] + K[i-1][j-wt[i-1]], K[i-1][j])\n",
    "                else:\n",
    "                    K[i][j] = K[i-1][j]\n",
    "    return K[n][W]"
   ]
  },
  {
   "cell_type": "code",
   "execution_count": 4,
   "metadata": {},
   "outputs": [
    {
     "data": {
      "text/plain": [
       "220"
      ]
     },
     "execution_count": 4,
     "metadata": {},
     "output_type": "execute_result"
    }
   ],
   "source": [
    "knapSack_dynamic(50, [10, 20, 30], [60, 100, 120], 3)"
   ]
  },
  {
   "cell_type": "code",
   "execution_count": null,
   "metadata": {},
   "outputs": [],
   "source": []
  }
 ],
 "metadata": {
  "kernelspec": {
   "display_name": "Python 3",
   "language": "python",
   "name": "python3"
  },
  "language_info": {
   "codemirror_mode": {
    "name": "ipython",
    "version": 3
   },
   "file_extension": ".py",
   "mimetype": "text/x-python",
   "name": "python",
   "nbconvert_exporter": "python",
   "pygments_lexer": "ipython3",
   "version": "3.7.3"
  }
 },
 "nbformat": 4,
 "nbformat_minor": 2
}
