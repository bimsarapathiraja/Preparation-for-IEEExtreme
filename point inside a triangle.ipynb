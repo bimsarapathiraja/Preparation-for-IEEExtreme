{
 "cells": [
  {
   "cell_type": "code",
   "execution_count": 1,
   "metadata": {},
   "outputs": [],
   "source": [
    "def inside(x1, y1, x2, y2, x3, y3, x, y):\n",
    "    if (cross(x1, y1, x, y, x2, y2) * cross(x1, y1, x, y, x3, y3) < 0):\n",
    "        if (cross(x3, y3, x, y, x1, y1) * cross(x3, y3, x, y, x2, y2) <  0):\n",
    "            return True\n",
    "    return False"
   ]
  },
  {
   "cell_type": "code",
   "execution_count": 12,
   "metadata": {},
   "outputs": [],
   "source": [
    "def cross(xa, ya, xb, yb, xc, yc):\n",
    "    #print(xa, ya, xb, yb, xc, yc)\n",
    "    ans = (xb - xa)*(yc - ya) - (yb - ya)*(xc - xa)\n",
    "    #print(ans)\n",
    "    return ans"
   ]
  },
  {
   "cell_type": "code",
   "execution_count": 13,
   "metadata": {},
   "outputs": [
    {
     "data": {
      "text/plain": [
       "True"
      ]
     },
     "execution_count": 13,
     "metadata": {},
     "output_type": "execute_result"
    }
   ],
   "source": [
    "inside(0, 0, 5, 0, 3, 6, 2, 2)"
   ]
  },
  {
   "cell_type": "code",
   "execution_count": 14,
   "metadata": {},
   "outputs": [
    {
     "data": {
      "text/plain": [
       "False"
      ]
     },
     "execution_count": 14,
     "metadata": {},
     "output_type": "execute_result"
    }
   ],
   "source": [
    "inside(0, 0, 5, 0, 3, 6, 6, 2)"
   ]
  },
  {
   "cell_type": "markdown",
   "metadata": {},
   "source": [
    "**check whether a point inside a traingle or not**"
   ]
  },
  {
   "cell_type": "markdown",
   "metadata": {},
   "source": [
    "this can also be done by calculating the areas of little traingles and comparing it to the whole traingle"
   ]
  },
  {
   "cell_type": "code",
   "execution_count": null,
   "metadata": {},
   "outputs": [],
   "source": []
  }
 ],
 "metadata": {
  "kernelspec": {
   "display_name": "Python 3",
   "language": "python",
   "name": "python3"
  },
  "language_info": {
   "codemirror_mode": {
    "name": "ipython",
    "version": 3
   },
   "file_extension": ".py",
   "mimetype": "text/x-python",
   "name": "python",
   "nbconvert_exporter": "python",
   "pygments_lexer": "ipython3",
   "version": "3.7.3"
  }
 },
 "nbformat": 4,
 "nbformat_minor": 2
}
