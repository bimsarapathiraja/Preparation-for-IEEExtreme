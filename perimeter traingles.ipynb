{
 "cells": [
  {
   "cell_type": "markdown",
   "metadata": {},
   "source": [
    "**project euler 39**"
   ]
  },
  {
   "cell_type": "code",
   "execution_count": 1,
   "metadata": {},
   "outputs": [],
   "source": [
    "from itertools import combinations"
   ]
  },
  {
   "cell_type": "code",
   "execution_count": 5,
   "metadata": {},
   "outputs": [
    {
     "name": "stdout",
     "output_type": "stream",
     "text": [
      "[(1, 2), (1, 3), (2, 3)]\n",
      "[(1, 2), 1, (2, 3)]\n"
     ]
    }
   ],
   "source": [
    "a = combinations([1,2,3], 2)\n",
    "b = list(a)\n",
    "print(b)\n",
    "b[1] = 1\n",
    "print(b)"
   ]
  },
  {
   "cell_type": "code",
   "execution_count": 21,
   "metadata": {},
   "outputs": [
    {
     "name": "stdout",
     "output_type": "stream",
     "text": [
      "[1.0, 4.0, 9.0, 16.0, 25.0, 36.0, 49.0]\n",
      "222\n",
      "max 1190.0\n",
      "840.0\n"
     ]
    }
   ],
   "source": [
    "lst = []\n",
    "\n",
    "for i in range(1, 500):   #500*500 = 250,000\n",
    "    lst.append(float(i*i))\n",
    "    \n",
    "n = len(lst)\n",
    "print(lst[0:7])\n",
    "\n",
    "ls = []\n",
    "\n",
    "for i in range(1, n):\n",
    "    for j in range(0, i):\n",
    "        if (lst[i] + lst[j]) in lst:\n",
    "            a = (lst[i] + lst[j]) ** 0.5\n",
    "            #print(a)\n",
    "            ls.append(a + lst[i]**0.5 + lst[j]**0.5)\n",
    "            \n",
    "ls_set = list(set(ls))\n",
    "print(len(ls_set))\n",
    "print(\"max\", max(ls_set))\n",
    "\n",
    "maxx = 1\n",
    "numb = 0\n",
    "\n",
    "for i in ls_set:\n",
    "    c = ls.count(i)\n",
    "    if c > maxx and i < 1000:\n",
    "        numb = i\n",
    "        maxx = c\n",
    "        #print(numb, c)\n",
    "        #print()\n",
    "        \n",
    "print(numb)"
   ]
  },
  {
   "cell_type": "code",
   "execution_count": 17,
   "metadata": {},
   "outputs": [
    {
     "data": {
      "text/plain": [
       "3"
      ]
     },
     "execution_count": 17,
     "metadata": {},
     "output_type": "execute_result"
    }
   ],
   "source": [
    "ls.count(120.0)"
   ]
  },
  {
   "cell_type": "code",
   "execution_count": 18,
   "metadata": {},
   "outputs": [
    {
     "data": {
      "text/plain": [
       "2"
      ]
     },
     "execution_count": 18,
     "metadata": {},
     "output_type": "execute_result"
    }
   ],
   "source": [
    "ls.count(510.0)"
   ]
  },
  {
   "cell_type": "code",
   "execution_count": null,
   "metadata": {},
   "outputs": [],
   "source": []
  }
 ],
 "metadata": {
  "kernelspec": {
   "display_name": "Python 3",
   "language": "python",
   "name": "python3"
  },
  "language_info": {
   "codemirror_mode": {
    "name": "ipython",
    "version": 3
   },
   "file_extension": ".py",
   "mimetype": "text/x-python",
   "name": "python",
   "nbconvert_exporter": "python",
   "pygments_lexer": "ipython3",
   "version": "3.7.3"
  }
 },
 "nbformat": 4,
 "nbformat_minor": 2
}
