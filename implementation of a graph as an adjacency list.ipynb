{
 "cells": [
  {
   "cell_type": "code",
   "execution_count": 9,
   "metadata": {},
   "outputs": [],
   "source": [
    "class Vertex:\n",
    "    \n",
    "    def __init__(self, key):\n",
    "        self.id = key\n",
    "        self.connectedTo = {}\n",
    "        \n",
    "    def addNeighbor(self, nbr, weight = 0):\n",
    "        self.connectedTo[nbr] = weight\n",
    "        \n",
    "    def __str__(self):\n",
    "        return str(self.id) + ' connected to: ' + str([x.id for x in self.connectedTo])\n",
    "    \n",
    "    def getConnections(self):\n",
    "        return self.connectedTo.keys()\n",
    "    \n",
    "    def getId(self):\n",
    "        return self.id\n",
    "    \n",
    "    def getWeight(self, nbr):\n",
    "        return self.connectedTo[nbr]"
   ]
  },
  {
   "cell_type": "code",
   "execution_count": 2,
   "metadata": {},
   "outputs": [],
   "source": [
    "class Graph:\n",
    "    def __init__(self):\n",
    "        self.vertList = {}\n",
    "        self.numVertices = 0\n",
    "        \n",
    "    def addVertex(self, key):\n",
    "        self.numVertices += 1\n",
    "        newVertex = Vertex(key)\n",
    "        self.vertList[key] = newVertex\n",
    "        return newVertex\n",
    "    \n",
    "    def getVertex(self, n):\n",
    "        if n in self.vertList:\n",
    "            return self.vertList[n]\n",
    "        else:\n",
    "            return None\n",
    "        \n",
    "    def __contains__(self, n):\n",
    "        return n in self.vertList\n",
    "    \n",
    "    def addEdge(self, f, t, cost = 0):\n",
    "        if f not in self.vertList:\n",
    "            nv = self.addVertex(f)\n",
    "        if t not in self.vertList:\n",
    "            nv = self.addVertex(t)\n",
    "        self.vertList[f].addNeighbor(self.vertList[t], cost)\n",
    "        \n",
    "    def getVertices(self):\n",
    "        return self.vertList.keys()\n",
    "    \n",
    "    def __iter__(self):\n",
    "        return iter(self.vertList.values())\n",
    "    "
   ]
  },
  {
   "cell_type": "code",
   "execution_count": 16,
   "metadata": {},
   "outputs": [],
   "source": [
    "g = Graph()"
   ]
  },
  {
   "cell_type": "code",
   "execution_count": 17,
   "metadata": {},
   "outputs": [],
   "source": [
    "for i in range(6):\n",
    "    g.addVertex(i)"
   ]
  },
  {
   "cell_type": "code",
   "execution_count": 18,
   "metadata": {},
   "outputs": [
    {
     "data": {
      "text/plain": [
       "{0: <__main__.Vertex at 0x22467d0fc50>,\n",
       " 1: <__main__.Vertex at 0x22467d0fda0>,\n",
       " 2: <__main__.Vertex at 0x22467d0fe48>,\n",
       " 3: <__main__.Vertex at 0x22467d0fe80>,\n",
       " 4: <__main__.Vertex at 0x22467d0feb8>,\n",
       " 5: <__main__.Vertex at 0x22467d0fdd8>}"
      ]
     },
     "execution_count": 18,
     "metadata": {},
     "output_type": "execute_result"
    }
   ],
   "source": [
    "g.vertList"
   ]
  },
  {
   "cell_type": "code",
   "execution_count": 19,
   "metadata": {},
   "outputs": [],
   "source": [
    "g.addEdge(0, 1, 2)"
   ]
  },
  {
   "cell_type": "code",
   "execution_count": 21,
   "metadata": {},
   "outputs": [],
   "source": [
    "g.addEdge(0, 4, 2)"
   ]
  },
  {
   "cell_type": "code",
   "execution_count": 22,
   "metadata": {},
   "outputs": [
    {
     "name": "stdout",
     "output_type": "stream",
     "text": [
      "0 connected to: [1, 4]\n",
      "dict_keys([<__main__.Vertex object at 0x0000022467D0FDA0>, <__main__.Vertex object at 0x0000022467D0FEB8>])\n",
      "\n",
      "1 connected to: []\n",
      "dict_keys([])\n",
      "\n",
      "2 connected to: []\n",
      "dict_keys([])\n",
      "\n",
      "3 connected to: []\n",
      "dict_keys([])\n",
      "\n",
      "4 connected to: []\n",
      "dict_keys([])\n",
      "\n",
      "5 connected to: []\n",
      "dict_keys([])\n",
      "\n"
     ]
    }
   ],
   "source": [
    "for vertex in g:\n",
    "    print(vertex)\n",
    "    print(vertex.getConnections())\n",
    "    print()"
   ]
  },
  {
   "cell_type": "markdown",
   "metadata": {},
   "source": [
    "### Word Ladder problem"
   ]
  },
  {
   "cell_type": "code",
   "execution_count": 15,
   "metadata": {},
   "outputs": [],
   "source": [
    "def buildGraph(wordFile):\n",
    "    d = {}\n",
    "    g = Graph()\n",
    "    \n",
    "    wfile = open(wordFile, 'r')\n",
    "    \n",
    "    for line in wfile:\n",
    "        print(line)\n",
    "        word = line[:-1]\n",
    "        print(word)\n",
    "        for i in range(len(word)):\n",
    "            bucket = word[:i] + '_' + word[i+1 : ]\n",
    "            if bucket in d:\n",
    "                d[bucket].append(word)\n",
    "            else:\n",
    "                d[bucket] = [word]\n",
    "                \n",
    "    for bucket in d.keys():\n",
    "        for word1 in d[bucket]:\n",
    "            for word2 in d[bucket]:\n",
    "                if word1 != word2:\n",
    "                    g.addEdge(word1, word2)\n",
    "    #print(d)               \n",
    "    return g"
   ]
  },
  {
   "cell_type": "code",
   "execution_count": 16,
   "metadata": {},
   "outputs": [
    {
     "name": "stdout",
     "output_type": "stream",
     "text": [
      "drone\n",
      "\n",
      "drone\n",
      "born\n",
      "\n",
      "born\n",
      "come\n",
      "\n",
      "come\n",
      "again\n",
      "\n",
      "again\n",
      "so\n",
      "\n",
      "so\n",
      "what\n",
      "\n",
      "what\n",
      "giant\n",
      "\n",
      "giant\n",
      "dome\n",
      "\n",
      "dome\n",
      "some\n",
      "\n",
      "some\n",
      "get\n",
      "\n",
      "get\n",
      "name\n",
      "\n",
      "name\n",
      "aye\n",
      "\n",
      "aye\n",
      "rat\n",
      "\n",
      "rat\n",
      "car\n",
      "\n",
      "car\n",
      "fate\n",
      "\n",
      "fate\n",
      "faint\n",
      "\n",
      "faint\n",
      "gome\n",
      "\n",
      "gome\n",
      "blom\n",
      "\n",
      "blom\n",
      "\n",
      "\n",
      "\n"
     ]
    }
   ],
   "source": [
    "g = buildGraph(\"wordFile.txt\")"
   ]
  },
  {
   "cell_type": "code",
   "execution_count": 17,
   "metadata": {},
   "outputs": [
    {
     "name": "stdout",
     "output_type": "stream",
     "text": [
      "come connected to: ['dome', 'some', 'gome']\n",
      "dict_keys([<__main__.Vertex object at 0x0000021A2672C2B0>, <__main__.Vertex object at 0x0000021A2672C240>, <__main__.Vertex object at 0x0000021A2672C0F0>])\n",
      "\n",
      "dome connected to: ['come', 'some', 'gome']\n",
      "dict_keys([<__main__.Vertex object at 0x0000021A2672C898>, <__main__.Vertex object at 0x0000021A2672C240>, <__main__.Vertex object at 0x0000021A2672C0F0>])\n",
      "\n",
      "some connected to: ['come', 'dome', 'gome']\n",
      "dict_keys([<__main__.Vertex object at 0x0000021A2672C898>, <__main__.Vertex object at 0x0000021A2672C2B0>, <__main__.Vertex object at 0x0000021A2672C0F0>])\n",
      "\n",
      "gome connected to: ['come', 'dome', 'some']\n",
      "dict_keys([<__main__.Vertex object at 0x0000021A2672C898>, <__main__.Vertex object at 0x0000021A2672C2B0>, <__main__.Vertex object at 0x0000021A2672C240>])\n",
      "\n"
     ]
    }
   ],
   "source": [
    "for vertex in g:\n",
    "    print(vertex)\n",
    "    print(vertex.getConnections())\n",
    "    print()"
   ]
  },
  {
   "cell_type": "code",
   "execution_count": null,
   "metadata": {},
   "outputs": [],
   "source": []
  }
 ],
 "metadata": {
  "kernelspec": {
   "display_name": "Python 3",
   "language": "python",
   "name": "python3"
  },
  "language_info": {
   "codemirror_mode": {
    "name": "ipython",
    "version": 3
   },
   "file_extension": ".py",
   "mimetype": "text/x-python",
   "name": "python",
   "nbconvert_exporter": "python",
   "pygments_lexer": "ipython3",
   "version": "3.7.3"
  }
 },
 "nbformat": 4,
 "nbformat_minor": 2
}
