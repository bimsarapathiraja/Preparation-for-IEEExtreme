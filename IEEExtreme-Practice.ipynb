{
 "cells": [
  {
   "cell_type": "markdown",
   "metadata": {},
   "source": [
    "# Xtreme10.0 - Painter's Dilemma\n"
   ]
  },
  {
   "cell_type": "markdown",
   "metadata": {},
   "source": [
    "Sample Input\n",
    "\n",
    "2 |\n",
    "5 |\n",
    "7 7 2 11 7 |\n",
    "10 |\n",
    "9 1 7 6 9 9 8 7 6 7\n",
    "\n",
    "Sample Output\n",
    "\n",
    "3 |\n",
    "6 "
   ]
  },
  {
   "cell_type": "code",
   "execution_count": 4,
   "metadata": {},
   "outputs": [],
   "source": [
    "from itertools import product,combinations,combinations_with_replacement\n",
    "def Solve(colors):\n",
    "    minimum = len(colors) * 2\n",
    "    histories = None\n",
    "    distinct_colors = tuple(colors)\n",
    "    ways = product(distinct_colors,repeat = len(distinct_colors))\n",
    "    ways = combinations_with_replacement(distinct_colors,len(distinct_colors))\n",
    "    ways = list(combinations(ways,2))\n",
    "    print (len(list(ways)))\n",
    "    #print (ways)\n",
    "    for way in ways:\n",
    "        results = Solveway(way,colors,minimum)\n",
    "        \n",
    "        if results != None:\n",
    "            result,history = results\n",
    "            if result < minimum:\n",
    "                minimum = result\n",
    "                histories = history\n",
    "    return (minimum,histories)"
   ]
  },
  {
   "cell_type": "code",
   "execution_count": 5,
   "metadata": {},
   "outputs": [],
   "source": [
    "def Solveway(way,colors,minimum):\n",
    "    changes = 2\n",
    "    brush1 = list(way[0])\n",
    "    brush2 = list(way[1])\n",
    "    #print(brush1,brush2)\n",
    "    color_update = colors[::-1]\n",
    "    #print(color_update)\n",
    "    brushes = [None,None]\n",
    "    history = [color_update.copy()]\n",
    "    #print(history)\n",
    "    count = 0\n",
    "    while len(color_update) > 0 :\n",
    "        if changes > minimum:\n",
    "            return (None)\n",
    "        #print (count)\n",
    "        brushes[0],brushes[1] = brush1[count],brush2[count]\n",
    "        if brushes[0] == color_update[-1]:\n",
    "            color_update.pop()\n",
    "            history.append([\"Brush1\",brushes[0],color_update.copy()])\n",
    "        elif brushes[1] == color_update[-1]:\n",
    "            color_update.pop()\n",
    "            history.append([\"Brush2\",brushes[1],color_update.copy()])\n",
    "        else:\n",
    "            return (None)\n",
    "        if count > 0 :\n",
    "                if brushes[0] != brush1[count-1]:\n",
    "                    changes += 1\n",
    "                if brushes[1] != brush2[count-1]:\n",
    "                    changes += 1\n",
    "        count += 1\n",
    "    '''for x in range(len(tuple(colors))-1):\n",
    "        if brush1[x] != brush1[x+1]:\n",
    "            changes += 1\n",
    "    for x in range(len(tuple(colors))-1):\n",
    "        if brush2[x] != brush2[x+1]:\n",
    "            changes += 1'''\n",
    "    history.append(brush1)\n",
    "    history.append(brush2)\n",
    "    print (changes,history)\n",
    "    return (changes,history)"
   ]
  },
  {
   "cell_type": "code",
   "execution_count": 11,
   "metadata": {},
   "outputs": [],
   "source": [
    "string = \"7 2 7\""
   ]
  },
  {
   "cell_type": "code",
   "execution_count": 12,
   "metadata": {},
   "outputs": [],
   "source": [
    "check = list(map(int,string.split()))"
   ]
  },
  {
   "cell_type": "code",
   "execution_count": 13,
   "metadata": {},
   "outputs": [
    {
     "name": "stdout",
     "output_type": "stream",
     "text": [
      "45\n",
      "3 [[7, 2, 7], ['Brush1', 7, [7, 2]], ['Brush2', 2, [7]], ['Brush1', 7, []], [7, 7, 7], [7, 2, 2]]\n",
      "4 [[7, 2, 7], ['Brush1', 7, [7, 2]], ['Brush2', 2, [7]], ['Brush1', 7, []], [7, 7, 7], [7, 2, 7]]\n",
      "2 [[7, 2, 7], ['Brush1', 7, [7, 2]], ['Brush2', 2, [7]], ['Brush1', 7, []], [7, 7, 7], [2, 2, 2]]\n",
      "3 [[7, 2, 7], ['Brush1', 7, [7, 2]], ['Brush2', 2, [7]], ['Brush1', 7, []], [7, 7, 7], [2, 2, 7]]\n",
      "4 [[7, 2, 7], ['Brush1', 7, [7, 2]], ['Brush2', 2, [7]], ['Brush2', 7, []], [7, 7, 2], [2, 2, 7]]\n",
      "2 [[7, 2, 7], ['Brush1', 7, [7, 2]], ['Brush2', 2, [7]], ['Brush1', 7, []], [7, 7, 7], [2, 2, 2]]\n",
      "3 [[7, 2, 7], ['Brush1', 7, [7, 2]], ['Brush2', 2, [7]], ['Brush1', 7, []], [7, 7, 7], [2, 2, 7]]\n",
      "2 [[7, 2, 7], ['Brush1', 7, [7, 2]], ['Brush2', 2, [7]], ['Brush1', 7, []], [7, 7, 7], [2, 2, 2]]\n",
      "3 [[7, 2, 7], ['Brush1', 7, [7, 2]], ['Brush2', 2, [7]], ['Brush1', 7, []], [7, 7, 7], [2, 2, 7]]\n",
      "2 [[7, 2, 7], ['Brush2', 7, [7, 2]], ['Brush1', 2, [7]], ['Brush2', 7, []], [2, 2, 2], [7, 7, 7]]\n",
      "3 [[7, 2, 7], ['Brush2', 7, [7, 2]], ['Brush1', 2, [7]], ['Brush1', 7, []], [2, 2, 7], [7, 7, 7]]\n"
     ]
    },
    {
     "data": {
      "text/plain": [
       "(2,\n",
       " [[7, 2, 7],\n",
       "  ['Brush1', 7, [7, 2]],\n",
       "  ['Brush2', 2, [7]],\n",
       "  ['Brush1', 7, []],\n",
       "  [7, 7, 7],\n",
       "  [2, 2, 2]])"
      ]
     },
     "execution_count": 13,
     "metadata": {},
     "output_type": "execute_result"
    }
   ],
   "source": [
    "Solve(check)"
   ]
  },
  {
   "cell_type": "markdown",
   "metadata": {},
   "source": [
    "## submission"
   ]
  },
  {
   "cell_type": "code",
   "execution_count": 14,
   "metadata": {},
   "outputs": [
    {
     "name": "stdin",
     "output_type": "stream",
     "text": [
      " 2\n",
      " 5\n",
      " 7 7 2 11 7\n"
     ]
    },
    {
     "name": "stdout",
     "output_type": "stream",
     "text": [
      "3\n"
     ]
    },
    {
     "name": "stdin",
     "output_type": "stream",
     "text": [
      " 4\n",
      " 3 5 5 1\n"
     ]
    },
    {
     "name": "stdout",
     "output_type": "stream",
     "text": [
      "3\n"
     ]
    }
   ],
   "source": [
    "from itertools import product,combinations,combinations_with_replacement\n",
    "def Solve(colors):\n",
    "    minimum = len(colors) * 2\n",
    "    histories = None\n",
    "    distinct_colors = tuple(colors)\n",
    "    ways = product(distinct_colors,repeat = len(distinct_colors))\n",
    "    ways = combinations_with_replacement(distinct_colors,len(distinct_colors))\n",
    "    ways = list(combinations(ways,2))\n",
    "    #print (len(list(ways)))\n",
    "    #print (ways)\n",
    "    for way in ways:\n",
    "        results = Solveway(way,colors,minimum)\n",
    "        \n",
    "        if results != None:\n",
    "            result,history = results\n",
    "            if result < minimum:\n",
    "                minimum = result\n",
    "                histories = history\n",
    "    return (minimum)\n",
    "\n",
    "def Solveway(way,colors,minimum):\n",
    "    changes = 2\n",
    "    brush1 = list(way[0])\n",
    "    brush2 = list(way[1])\n",
    "    #print(brush1,brush2)\n",
    "    color_update = colors[::-1]\n",
    "    #print(color_update)\n",
    "    brushes = [None,None]\n",
    "    history = [color_update.copy()]\n",
    "    #print(history)\n",
    "    count = 0\n",
    "    while len(color_update) > 0 :\n",
    "        if changes > minimum:\n",
    "            return (None)\n",
    "        #print (count)\n",
    "        brushes[0],brushes[1] = brush1[count],brush2[count]\n",
    "        if brushes[0] == color_update[-1]:\n",
    "            color_update.pop()\n",
    "            #history.append([\"Brush1\",brushes[0],color_update.copy()])\n",
    "        elif brushes[1] == color_update[-1]:\n",
    "            color_update.pop()\n",
    "            #history.append([\"Brush2\",brushes[1],color_update.copy()])\n",
    "        else:\n",
    "            return (None)\n",
    "        if count > 0 :\n",
    "                if brushes[0] != brush1[count-1]:\n",
    "                    changes += 1\n",
    "                if brushes[1] != brush2[count-1]:\n",
    "                    changes += 1\n",
    "        count += 1\n",
    "    '''for x in range(len(tuple(colors))-1):\n",
    "        if brush1[x] != brush1[x+1]:\n",
    "            changes += 1\n",
    "    for x in range(len(tuple(colors))-1):\n",
    "        if brush2[x] != brush2[x+1]:\n",
    "            changes += 1'''\n",
    "    #history.append(brush1)\n",
    "    #history.append(brush2)\n",
    "    #print (changes,history)\n",
    "    return (changes,history)\n",
    "\n",
    "tC = int(input())\n",
    "for _ in range(tC):\n",
    "    number_of_walls = input()\n",
    "    colors = list(map(int,input().split()))\n",
    "    print (Solve(colors))"
   ]
  },
  {
   "cell_type": "code",
   "execution_count": null,
   "metadata": {},
   "outputs": [],
   "source": []
  }
 ],
 "metadata": {
  "kernelspec": {
   "display_name": "Python 3",
   "language": "python",
   "name": "python3"
  },
  "language_info": {
   "codemirror_mode": {
    "name": "ipython",
    "version": 3
   },
   "file_extension": ".py",
   "mimetype": "text/x-python",
   "name": "python",
   "nbconvert_exporter": "python",
   "pygments_lexer": "ipython3",
   "version": "3.7.3"
  }
 },
 "nbformat": 4,
 "nbformat_minor": 4
}
