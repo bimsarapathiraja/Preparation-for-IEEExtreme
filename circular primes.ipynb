{
 "cells": [
  {
   "cell_type": "code",
   "execution_count": 86,
   "metadata": {},
   "outputs": [],
   "source": [
    "def circularPrimes(n): \n",
    "      \n",
    "    count = 1\n",
    "    \n",
    "    prime = [True for i in range(n + 1)] \n",
    "    p = 2\n",
    "    while (p * p <= n): \n",
    "          \n",
    "        # If prime[p] is not changed, then it is a prime \n",
    "        if (prime[p] == True): \n",
    "              \n",
    "            # Update all multiples of p \n",
    "            for i in range(p * 2, n + 1, p): \n",
    "                prime[i] = False\n",
    "                \n",
    "        p += 1\n",
    "    prime[0]= False\n",
    "    prime[1]= False\n",
    "    \n",
    "    for i in range(3, n+1):\n",
    "        if prime[i] and (('2' not in str(i)) and ('4' not in str(i)) and ('6' not in str(i)) and ('8' not in str(i)) and ('0' not in str(i))):\n",
    "            #print(i)\n",
    "            a = True\n",
    "            lst = circular(i)\n",
    "            for j in lst:\n",
    "                if not prime[j]:\n",
    "                    a = False\n",
    "                #prime[j] = False\n",
    "            if a:\n",
    "                count += 1\n",
    "                print(i,)\n",
    "                    \n",
    "    return count\n",
    "            "
   ]
  },
  {
   "cell_type": "code",
   "execution_count": 65,
   "metadata": {},
   "outputs": [],
   "source": [
    "def circular(n):\n",
    "    lst = []\n",
    "    n = str(n)\n",
    "    length = len(n)\n",
    "    if length == 1:\n",
    "        lst = [int(n)]\n",
    "    elif length == 2:\n",
    "        lst = [int(n[0]+n[1]), int(n[1]+n[0])]\n",
    "    elif length == 3:\n",
    "        lst = [int(n[2]+n[0]+n[1]), int(n[0]+n[1]+n[2]), int(n[1]+n[2]+n[0])]\n",
    "    elif length == 4:\n",
    "        lst = [int(n[0]+n[1]+n[2]+n[3]), int(n[3]+n[0]+n[1]+n[2]), int(n[2]+n[3]+n[0]+n[1]), int(n[1]+n[2]+n[3]+n[0])]\n",
    "    elif length == 5:\n",
    "        lst = [int(n[0]+n[1]+n[2]+n[3]+n[4]), int(n[4]+n[0]+n[1]+n[2]+n[3]), int(n[3]+n[4]+n[0]+n[1]+n[2]), int(n[2]+n[3]+n[4]+n[0]+n[1]), int(n[1]+n[2]+n[3]+n[4]+n[0])]\n",
    "    elif length == 6:\n",
    "        lst = [int(n[0]+n[1]+n[2]+n[3]+n[4]+n[5]), int(n[5]+n[0]+n[1]+n[2]+n[3]+n[4]), int(n[5]+n[4]+n[0]+n[1]+n[2]+n[3]), int(n[3]+n[4]+n[5]+n[0]+n[1]+n[2]), int(n[2]+n[3]+n[4]+n[5]+n[0]+n[1]), int(n[1]+n[2]+n[3]+n[4]+n[5]+n[0])]\n",
    "    return list(set(lst))"
   ]
  },
  {
   "cell_type": "code",
   "execution_count": 77,
   "metadata": {},
   "outputs": [
    {
     "data": {
      "text/plain": [
       "13"
      ]
     },
     "execution_count": 77,
     "metadata": {},
     "output_type": "execute_result"
    }
   ],
   "source": [
    "circularPrimes(100)"
   ]
  },
  {
   "cell_type": "code",
   "execution_count": 78,
   "metadata": {},
   "outputs": [
    {
     "data": {
      "text/plain": [
       "25"
      ]
     },
     "execution_count": 78,
     "metadata": {},
     "output_type": "execute_result"
    }
   ],
   "source": [
    "circularPrimes(1000)"
   ]
  },
  {
   "cell_type": "code",
   "execution_count": 79,
   "metadata": {},
   "outputs": [
    {
     "data": {
      "text/plain": [
       "43"
      ]
     },
     "execution_count": 79,
     "metadata": {},
     "output_type": "execute_result"
    }
   ],
   "source": [
    "circularPrimes(100000)"
   ]
  },
  {
   "cell_type": "code",
   "execution_count": 85,
   "metadata": {},
   "outputs": [
    {
     "name": "stdout",
     "output_type": "stream",
     "text": [
      "[3]\n",
      "[5]\n",
      "[7]\n",
      "[11]\n",
      "[13, 31]\n",
      "[17, 71]\n",
      "[73, 37]\n",
      "[97, 79]\n",
      "[113, 131, 311]\n",
      "[971, 197, 719]\n",
      "[199, 991, 919]\n",
      "[337, 373, 733]\n",
      "[1193, 1931, 9311, 3119]\n",
      "[9377, 3779, 7793, 7937]\n",
      "[11939, 39119, 93911, 91193, 19391]\n",
      "[19937, 99371, 37199, 93719, 71993]\n",
      "[999331, 993319, 933199, 319993, 199933, 331999]\n"
     ]
    },
    {
     "data": {
      "text/plain": [
       "49"
      ]
     },
     "execution_count": 85,
     "metadata": {},
     "output_type": "execute_result"
    }
   ],
   "source": [
    "circularPrimes(1000000)"
   ]
  },
  {
   "cell_type": "code",
   "execution_count": 87,
   "metadata": {},
   "outputs": [
    {
     "name": "stdout",
     "output_type": "stream",
     "text": [
      "3\n",
      "5\n",
      "7\n",
      "11\n",
      "13\n",
      "17\n",
      "31\n",
      "37\n",
      "71\n",
      "73\n",
      "79\n",
      "97\n",
      "113\n",
      "131\n",
      "197\n",
      "199\n",
      "311\n",
      "337\n",
      "373\n",
      "719\n",
      "733\n",
      "919\n",
      "971\n",
      "991\n",
      "1193\n",
      "1931\n",
      "3119\n",
      "3779\n",
      "7793\n",
      "7937\n",
      "9311\n",
      "9377\n",
      "11939\n",
      "19391\n",
      "19937\n",
      "37199\n",
      "39119\n",
      "71993\n",
      "91193\n",
      "93719\n",
      "93911\n",
      "99371\n",
      "199933\n",
      "331999\n",
      "779131\n",
      "933199\n",
      "939193\n"
     ]
    },
    {
     "data": {
      "text/plain": [
       "48"
      ]
     },
     "execution_count": 87,
     "metadata": {},
     "output_type": "execute_result"
    }
   ],
   "source": [
    "circularPrimes(1000000)"
   ]
  },
  {
   "cell_type": "code",
   "execution_count": null,
   "metadata": {},
   "outputs": [],
   "source": [
    "[999331, 993319,, 319993,, 331999]"
   ]
  }
 ],
 "metadata": {
  "kernelspec": {
   "display_name": "Python 3",
   "language": "python",
   "name": "python3"
  },
  "language_info": {
   "codemirror_mode": {
    "name": "ipython",
    "version": 3
   },
   "file_extension": ".py",
   "mimetype": "text/x-python",
   "name": "python",
   "nbconvert_exporter": "python",
   "pygments_lexer": "ipython3",
   "version": "3.7.3"
  }
 },
 "nbformat": 4,
 "nbformat_minor": 2
}
